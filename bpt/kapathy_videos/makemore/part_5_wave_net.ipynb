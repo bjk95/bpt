{
 "cells": [
  {
   "cell_type": "code",
   "execution_count": 1,
   "metadata": {},
   "outputs": [
    {
     "name": "stdout",
     "output_type": "stream",
     "text": [
      "PyTorch version: 2.6.0\n",
      "MPS available: True\n",
      "MPS built: True\n"
     ]
    }
   ],
   "source": [
    "import torch\n",
    "import torch.nn.functional as F\n",
    "import matplotlib.pyplot as plt\n",
    "import time\n",
    "import random\n",
    "%matplotlib inline\n",
    "print(f\"PyTorch version: {torch.__version__}\")\n",
    "print(f\"MPS available: {torch.backends.mps.is_available()}\")\n",
    "print(f\"MPS built: {torch.backends.mps.is_built()}\")\n",
    "# if torch.backends.mps.is_available():\n",
    "#     # Set MPS as the default device for all new tensors\n",
    "#     torch.set_default_device('mps')\n",
    "#     print(\"Default device set to MPS\")\n",
    "# else:\n",
    "#     print(\"MPS not available, using CPU\")\n",
    "    \n",
    "# device = 'mps' if torch.backends.mps.is_available() else 'cpu'\n",
    "\n",
    "gen = lambda : torch.Generator().manual_seed(2147483647)"
   ]
  },
  {
   "cell_type": "code",
   "execution_count": 2,
   "metadata": {},
   "outputs": [
    {
     "name": "stdout",
     "output_type": "stream",
     "text": [
      "dataset_size=32033\n"
     ]
    },
    {
     "data": {
      "text/plain": [
       "['emma', 'olivia', 'ava', 'isabella', 'sophia', 'charlotte', 'mia', 'amelia']"
      ]
     },
     "execution_count": 2,
     "metadata": {},
     "output_type": "execute_result"
    }
   ],
   "source": [
    "words = open('names.txt', 'r').read().splitlines()\n",
    "dataset_size = len(words)\n",
    "print(f'{dataset_size=}')\n",
    "words[:8]"
   ]
  },
  {
   "cell_type": "code",
   "execution_count": 3,
   "metadata": {},
   "outputs": [],
   "source": [
    "# build vocabulary of characters and mapping to/from integers\n",
    "special_character = '.'\n",
    "chars = sorted(list(set(''.join(words))))\n",
    "stoi = {s: i+1 for i,s in enumerate(chars)} # string to int\n",
    "stoi[special_character] = 0\n",
    "itos = {i: s for s, i in stoi.items()} # int to string\n",
    "V = len(stoi)"
   ]
  },
  {
   "cell_type": "code",
   "execution_count": 4,
   "metadata": {},
   "outputs": [
    {
     "name": "stdout",
     "output_type": "stream",
     "text": [
      "X.shape=torch.Size([182625, 8]), y.shape=torch.Size([182625])\n",
      "X.shape=torch.Size([22655, 8]), y.shape=torch.Size([22655])\n",
      "X.shape=torch.Size([22866, 8]), y.shape=torch.Size([22866])\n"
     ]
    }
   ],
   "source": [
    "# build dataset\n",
    "fused_steps = 8\n",
    "def build_dataset(words: list[str], block_size: int = 3):\n",
    "    X, y = [], []\n",
    "    for w in words:\n",
    "        context = [0] * block_size\n",
    "        for ch in w + special_character:\n",
    "            idx = stoi[ch]\n",
    "            X.append(context)\n",
    "            y.append(idx)\n",
    "            context = context[1:] + [idx]\n",
    "    \n",
    "    X, y = torch.tensor(X), torch.tensor(y)\n",
    "    print(f'{X.shape=}, {y.shape=}')\n",
    "    return X, y\n",
    "\n",
    "random.seed(42)\n",
    "random.shuffle(words)\n",
    "n1 = int(dataset_size*.8)\n",
    "n2 = int(dataset_size*.9)\n",
    "X_train, y_train = build_dataset(words[:n1],fused_steps)    # 80%\n",
    "X_dev, y_dev = build_dataset(words[n1:n2],fused_steps)      # 10%\n",
    "X_test, y_test = build_dataset(words[n2:],fused_steps)      # 10%"
   ]
  },
  {
   "cell_type": "code",
   "execution_count": 9,
   "metadata": {},
   "outputs": [],
   "source": [
    "from typing import Any\n",
    "\n",
    "\n",
    "class Linear:\n",
    "    def __init__(self, fan_in: int, fan_out, bias: bool = True) -> None:\n",
    "        self.weights: torch.Tensor = torch.randn((fan_in, fan_out)) / fan_in ** .5\n",
    "        self.bias: torch.Tensor = torch.zeros(fan_out) if bias else None\n",
    "        \n",
    "    def __call__(self, x: torch.Tensor) -> torch.Tensor:\n",
    "        self.out = x @ self.weights\n",
    "        if self.bias is not None:\n",
    "            self.out += self.bias\n",
    "        return self.out\n",
    "    \n",
    "    def parameters(self) -> list[torch.Tensor]:\n",
    "        return [self.weights] + ([] if self.bias is None else [self.bias])\n",
    "    \n",
    "class BatchNorm1d:\n",
    "    def __init__(self, dim: int, eps=1e-5, momentum=0.1) -> None:\n",
    "        self.eps = eps\n",
    "        self.momentum = momentum\n",
    "        self.training = True\n",
    "        \n",
    "        # learnable parameters\n",
    "        self.gamma = torch.ones(dim)\n",
    "        self.beta = torch.zeros(dim)\n",
    "        \n",
    "        # buffers trained with a running 'momentum update'\n",
    "        self.running_mean = torch.zeros(dim)\n",
    "        self.running_var = torch.ones(dim)\n",
    "        \n",
    "    def __call__(self, x: torch.Tensor) -> torch.Tensor:\n",
    "        if self.training:\n",
    "            if x.ndim ==2:\n",
    "                dim = 0\n",
    "            elif x.ndim == 3:\n",
    "                dim = (0,1)\n",
    "            x_mean = x.mean(dim, keepdim=True)\n",
    "            x_variance = x.var(dim, keepdim=True)\n",
    "        else:\n",
    "            x_mean = self.running_mean\n",
    "            x_variance = self.running_var\n",
    "        \n",
    "        x_hat = (x-x_mean) / torch.sqrt(x_variance + self.eps)\n",
    "        self.out = self.gamma * x_hat + self.beta\n",
    "        # update buffers\n",
    "        if self.training:\n",
    "            with torch.no_grad():\n",
    "                self.running_mean = (1- self.momentum) * self.running_mean + self.momentum * x_mean\n",
    "                self.running_var = (1- self.momentum) * self.running_var + self.momentum * x_variance\n",
    "        return self.out\n",
    "    \n",
    "    def parameters(self) -> list[torch.Tensor]:\n",
    "        return [self.gamma, self.beta]\n",
    "    \n",
    "class Tanh:\n",
    "    def __call__(self, x: torch.Tensor) -> torch.Tensor:\n",
    "        self.out = torch.tanh(x)\n",
    "        return self.out\n",
    "    \n",
    "    def parameters(self) -> list[torch.Tensor]:\n",
    "        return[]\n",
    "    \n",
    "class  Embedding:\n",
    "    def __init__(self, n_embeddings: int , embedding_dimensions:int) -> None:\n",
    "        self.weights = torch.randn((n_embeddings, embedding_dimensions))\n",
    "        \n",
    "    def __call__(self, idx: torch.Tensor) -> Any:\n",
    "        self.out = self.weights[idx]\n",
    "        return self.out\n",
    "    \n",
    "    def parameters(self):\n",
    "        return [self.weights]\n",
    "    \n",
    "class FlattenConsecutive:\n",
    "    def __init__(self, n: int) -> None:\n",
    "        self.fused_steps = n\n",
    "        \n",
    "    def __call__(self, x: torch.Tensor) -> Any:\n",
    "        batch_size, time_steps, features = x.shape\n",
    "        x = x.view(batch_size, time_steps//self.fused_steps, features*self.fused_steps)\n",
    "        if x.shape[1] ==1:\n",
    "            x=x.squeeze(1)\n",
    "        self.out = x\n",
    "        return self.out\n",
    "        \n",
    "    def parameters(self):\n",
    "        return []\n",
    "    \n",
    "class Sequential:\n",
    "    def __init__(self, layers: list) -> None:\n",
    "        self.layers = layers\n",
    "        \n",
    "    def __call__(self, x: torch.Tensor) -> torch.Tensor:\n",
    "        for layer in self.layers:\n",
    "            x = layer(x)\n",
    "        self.out = x\n",
    "        return self.out\n",
    "    \n",
    "    def parameters(self):\n",
    "        return [p for layer in self.layers for p in layer.parameters()]"
   ]
  },
  {
   "cell_type": "code",
   "execution_count": 10,
   "metadata": {},
   "outputs": [
    {
     "data": {
      "text/plain": [
       "<torch._C.Generator at 0x11952ba30>"
      ]
     },
     "execution_count": 10,
     "metadata": {},
     "output_type": "execute_result"
    }
   ],
   "source": [
    "torch.manual_seed(42)"
   ]
  },
  {
   "cell_type": "code",
   "execution_count": 18,
   "metadata": {},
   "outputs": [
    {
     "name": "stdout",
     "output_type": "stream",
     "text": [
      "76579\n"
     ]
    }
   ],
   "source": [
    "n_embd = 24\n",
    "n_hidden = 128\n",
    "\n",
    "model = Sequential([\n",
    "    Embedding(V, n_embd),\n",
    "    FlattenConsecutive(2), Linear(n_embd*2, n_hidden, bias=False), BatchNorm1d(n_hidden), Tanh(),\n",
    "    FlattenConsecutive(2), Linear(n_hidden*2, n_hidden, bias=False), BatchNorm1d(n_hidden), Tanh(),\n",
    "    FlattenConsecutive(2), Linear(n_hidden*2, n_hidden, bias=False), BatchNorm1d(n_hidden), Tanh(),\n",
    "    Linear(n_hidden, V)\n",
    "])\n",
    "\n",
    "with torch.no_grad():\n",
    "    model.layers[-1].weights +=0.1\n",
    "    \n",
    "parameters =  model.parameters()\n",
    "print(sum(p.nelement() for p in parameters))\n",
    "for p in parameters:\n",
    "    p.requires_grad=True"
   ]
  },
  {
   "cell_type": "code",
   "execution_count": 19,
   "metadata": {},
   "outputs": [
    {
     "name": "stdout",
     "output_type": "stream",
     "text": [
      "X_batch.shape=torch.Size([4, 8])\n"
     ]
    },
    {
     "data": {
      "text/plain": [
       "tensor([[ 0,  0, 19, 21, 12,  1, 13,  9],\n",
       "        [ 0,  0,  0, 11,  1, 18,  4,  9],\n",
       "        [ 0,  0,  0,  0,  1, 13,  1,  4],\n",
       "        [ 0,  0,  0,  0,  0,  0,  0,  0]])"
      ]
     },
     "execution_count": 19,
     "metadata": {},
     "output_type": "execute_result"
    }
   ],
   "source": [
    "idx = torch.randint(0, X_train.shape[0], (4,))\n",
    "X_batch, y_batch = X_train[idx], y_train[idx]\n",
    "logits = model(X_batch)\n",
    "print(f'{X_batch.shape=}')\n",
    "X_batch"
   ]
  },
  {
   "cell_type": "code",
   "execution_count": 20,
   "metadata": {},
   "outputs": [
    {
     "name": "stdout",
     "output_type": "stream",
     "text": [
      "Embedding: (4, 8, 24)\n",
      "FlattenConsecutive: (4, 4, 48)\n",
      "Linear: (4, 4, 128)\n",
      "BatchNorm1d: (4, 4, 128)\n",
      "Tanh: (4, 4, 128)\n",
      "FlattenConsecutive: (4, 2, 256)\n",
      "Linear: (4, 2, 128)\n",
      "BatchNorm1d: (4, 2, 128)\n",
      "Tanh: (4, 2, 128)\n",
      "FlattenConsecutive: (4, 256)\n",
      "Linear: (4, 128)\n",
      "BatchNorm1d: (4, 128)\n",
      "Tanh: (4, 128)\n",
      "Linear: (4, 27)\n"
     ]
    }
   ],
   "source": [
    "for layer in model.layers:\n",
    "    print(f'{layer.__class__.__name__}: {tuple(layer.out.shape)}')"
   ]
  },
  {
   "cell_type": "code",
   "execution_count": 21,
   "metadata": {},
   "outputs": [
    {
     "name": "stdout",
     "output_type": "stream",
     "text": [
      "      0/  200000: 3.4191\n",
      "  10000/  200000: 1.9597\n",
      "  20000/  200000: 1.9828\n",
      "  30000/  200000: 1.8847\n",
      "  40000/  200000: 1.8838\n",
      "  50000/  200000: 2.0015\n",
      "  60000/  200000: 2.1990\n",
      "  70000/  200000: 1.7240\n",
      "  80000/  200000: 2.0121\n",
      "  90000/  200000: 2.0880\n",
      " 100000/  200000: 1.8503\n",
      " 110000/  200000: 2.1979\n",
      " 120000/  200000: 2.0661\n",
      " 130000/  200000: 2.2988\n",
      " 140000/  200000: 1.8350\n",
      " 150000/  200000: 1.7871\n",
      " 160000/  200000: 1.5410\n",
      " 170000/  200000: 1.9475\n",
      " 180000/  200000: 1.6456\n",
      " 190000/  200000: 1.9213\n",
      "runtime=271.9534888267517\n"
     ]
    }
   ],
   "source": [
    "max_steps = 200_000\n",
    "batch_size = 32\n",
    "loss_i = []\n",
    "start = time.time()\n",
    "for i in range(max_steps):\n",
    "    idx = torch.randint(0, X_train.shape[0], (batch_size,))\n",
    "    X_batch, y_batch = X_train[idx], y_train[idx]\n",
    "    \n",
    "    # forward pass\n",
    "    logits = model(X_batch)\n",
    "    loss = F.cross_entropy(logits, y_batch)\n",
    "    \n",
    "    # backward pass\n",
    "    for p in parameters:\n",
    "        p.grad = None\n",
    "    loss.backward()\n",
    "    \n",
    "    # updates\n",
    "    \n",
    "    lr = 0.1 if i < 150_000 else 0.01\n",
    "    for p in parameters:\n",
    "        p.data += -lr * p.grad\n",
    "        \n",
    "    # track stats\n",
    "    if i % 10_000 == 0:\n",
    "        print(f'{i:7d}/ {max_steps:7d}: {loss.item():.4f}')\n",
    "    loss_i.append(loss.log10().item())\n",
    "\n",
    "runtime = time.time() - start\n",
    "print(f'{runtime=}')\n",
    "    "
   ]
  },
  {
   "cell_type": "markdown",
   "metadata": {},
   "source": [
    "cpu runtime=260.49666905403137\n"
   ]
  },
  {
   "cell_type": "code",
   "execution_count": 22,
   "metadata": {},
   "outputs": [
    {
     "data": {
      "text/plain": [
       "[<matplotlib.lines.Line2D at 0x11f4fc6d0>]"
      ]
     },
     "execution_count": 22,
     "metadata": {},
     "output_type": "execute_result"
    },
    {
     "data": {
      "image/png": "[encoded data removed]",
      "text/plain": [
       "<Figure size 640x480 with 1 Axes>"
      ]
     },
     "metadata": {},
     "output_type": "display_data"
    }
   ],
   "source": [
    "plt.plot(torch.tensor(loss_i).view(200,-1).mean(1))\n"
   ]
  },
  {
   "cell_type": "code",
   "execution_count": 23,
   "metadata": {},
   "outputs": [],
   "source": [
    "for layer in model.layers:\n",
    "    layer.training = False"
   ]
  },
  {
   "cell_type": "code",
   "execution_count": 24,
   "metadata": {},
   "outputs": [
    {
     "name": "stdout",
     "output_type": "stream",
     "text": [
      "train 1.7699743509292603\n",
      "val 1.9875608682632446\n"
     ]
    }
   ],
   "source": [
    "@torch.no_grad() # this decorator disables gradient tracking\n",
    "def split_loss(split):\n",
    "  x,y = {\n",
    "    'train': (X_train, y_train),\n",
    "    'val': (X_dev, y_dev),\n",
    "    'test': (X_test, y_test),\n",
    "  }[split]\n",
    "  \n",
    "  logits = model(x)\n",
    "  loss = F.cross_entropy(logits, y)\n",
    "  print(split, loss.item())\n",
    "\n",
    "# put layers into eval mode\n",
    "for layer in model.layers:\n",
    "  layer.training = False\n",
    "split_loss('train')\n",
    "split_loss('val')"
   ]
  },
  {
   "cell_type": "code",
   "execution_count": 25,
   "metadata": {},
   "outputs": [
    {
     "name": "stdout",
     "output_type": "stream",
     "text": [
      "carmah.\n",
      "amelia.\n",
      "khyrir.\n",
      "khaliyah.\n",
      "cassie.\n",
      "rahmeed.\n",
      "perric.\n",
      "kaeli.\n",
      "neliah.\n",
      "tziriah.\n",
      "kaleigh.\n",
      "hamond.\n",
      "miquian.\n",
      "sulivea.\n",
      "jamil.\n",
      "waverleigh.\n",
      "yiir.\n",
      "kaedyn.\n",
      "sabrea.\n",
      "ediia.\n"
     ]
    }
   ],
   "source": [
    "# sample from the model\n",
    "g = torch.Generator().manual_seed(2147483647 + 10)\n",
    "\n",
    "for _ in range(20):\n",
    "    \n",
    "    out = []\n",
    "    context = [0] * fused_steps # initialize with all ...\n",
    "    while True:\n",
    "      # forward pass the neural net\n",
    "      logits = model(torch.tensor([context]))\n",
    "      probs = F.softmax(logits, dim=1)\n",
    "      # sample from the distribution\n",
    "      ix = torch.multinomial(probs, num_samples=1, generator=g).item()\n",
    "      # shift the context window and track the samples\n",
    "      context = context[1:] + [ix]\n",
    "      out.append(ix)\n",
    "      # if we sample the special '.' token, break\n",
    "      if ix == 0:\n",
    "        break\n",
    "    \n",
    "    print(''.join(itos[i] for i in out)) # decode and print the generated word"
   ]
  },
  {
   "cell_type": "code",
   "execution_count": 29,
   "metadata": {},
   "outputs": [
    {
     "name": "stdout",
     "output_type": "stream",
     "text": [
      "........ --> d\n",
      ".......d --> i\n",
      "......di --> o\n",
      ".....dio --> n\n",
      "....dion --> d\n",
      "...diond --> r\n",
      "..diondr --> e\n",
      ".diondre --> .\n"
     ]
    }
   ],
   "source": [
    "for x,y in zip(X_train[7:15], y_train[7:15]):\n",
    "  print(''.join(itos[ix.item()] for ix in x), '-->', itos[y.item()])"
   ]
  },
  {
   "cell_type": "code",
   "execution_count": 32,
   "metadata": {},
   "outputs": [
    {
     "data": {
      "text/plain": [
       "tensor([[-6.3607,  0.7481, -0.3219, -0.1810, -0.0405, -0.0795, -1.5741, -1.0499,\n",
       "         -0.7530, -1.0671,  0.2269,  0.6665, -0.2451,  0.4985, -0.7069, -1.5272,\n",
       "         -1.0559, -2.9556,  0.0468,  0.1360, -0.2319, -3.4102, -1.6448, -1.8726,\n",
       "         -2.5730, -1.2347, -0.6271]], grad_fn=<AddBackward0>)"
      ]
     },
     "execution_count": 32,
     "metadata": {},
     "output_type": "execute_result"
    }
   ],
   "source": [
    "# forward a single example:\n",
    "logits = model(X_train[[7]])\n",
    "logits"
   ]
  },
  {
   "cell_type": "code",
   "execution_count": 34,
   "metadata": {},
   "outputs": [
    {
     "data": {
      "text/plain": [
       "torch.Size([8, 27])"
      ]
     },
     "execution_count": 34,
     "metadata": {},
     "output_type": "execute_result"
    }
   ],
   "source": [
    "# forward all of them\n",
    "logits = torch.zeros(8, 27)\n",
    "for i in range(8):\n",
    "  logits[i] = model(X_train[[7+i]])\n",
    "logits.shape"
   ]
  }
 ],
 "metadata": {
  "kernelspec": {
   "display_name": ".venv",
   "language": "python",
   "name": "python3"
  },
  "language_info": {
   "codemirror_mode": {
    "name": "ipython",
    "version": 3
   },
   "file_extension": ".py",
   "mimetype": "text/x-python",
   "name": "python",
   "nbconvert_exporter": "python",
   "pygments_lexer": "ipython3",
   "version": "3.11.2"
  }
 },
 "nbformat": 4,
 "nbformat_minor": 2
}
