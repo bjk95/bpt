{
 "cells": [
  {
   "cell_type": "code",
   "execution_count": 4,
   "metadata": {},
   "outputs": [
    {
     "name": "stdout",
     "output_type": "stream",
     "text": [
      "len(text)=1115393\n",
      "First Citizen:\n",
      "Before we proceed any further, hear me speak.\n",
      "\n",
      "All:\n",
      "Speak, speak.\n",
      "\n",
      "First Citizen:\n",
      "You are all resolved rather to die than to famish?\n",
      "\n",
      "All:\n",
      "Resolved. resolved.\n",
      "\n",
      "First Citizen:\n",
      "First, you know Caius Marcius is chief enemy to the people.\n",
      "\n",
      "All:\n",
      "We know't, we know't.\n",
      "\n",
      "First Citizen:\n",
      "Let us\n"
     ]
    }
   ],
   "source": [
    "with open('input.txt', 'r', encoding='utf8') as f:\n",
    "    text = f.read()   \n",
    "\n",
    "print(f'{len(text)=}')\n",
    "print(text[:300])"
   ]
  },
  {
   "cell_type": "code",
   "execution_count": 5,
   "metadata": {},
   "outputs": [
    {
     "name": "stdout",
     "output_type": "stream",
     "text": [
      "\n",
      " !$&',-.3:;?ABCDEFGHIJKLMNOPQRSTUVWXYZabcdefghijklmnopqrstuvwxyz\n",
      "V=65\n"
     ]
    }
   ],
   "source": [
    "characters = sorted(list(set(text)))\n",
    "V = len(characters)\n",
    "print(''.join(characters))\n",
    "print(f'{V=}')"
   ]
  },
  {
   "cell_type": "code",
   "execution_count": 19,
   "metadata": {},
   "outputs": [
    {
     "data": {
      "text/plain": [
       "'Brad'"
      ]
     },
     "execution_count": 19,
     "metadata": {},
     "output_type": "execute_result"
    }
   ],
   "source": [
    "stoi = {ch: i for i, ch in enumerate(characters)}\n",
    "itos = {i: ch for ch, i in stoi.items()}\n",
    "\n",
    "encode = lambda s: [stoi[c] for c in s]\n",
    "decode = lambda l: ''.join([itos[i] for i in l])\n",
    "r = encode('Brad')\n",
    "decode(r)"
   ]
  },
  {
   "cell_type": "code",
   "execution_count": 22,
   "metadata": {},
   "outputs": [
    {
     "name": "stdout",
     "output_type": "stream",
     "text": [
      "data.dtype=torch.int64, data.shape=torch.Size([1115393])\n"
     ]
    },
    {
     "data": {
      "text/plain": [
       "tensor([18, 47, 56, 57, 58,  1, 15, 47, 58, 47])"
      ]
     },
     "execution_count": 22,
     "metadata": {},
     "output_type": "execute_result"
    }
   ],
   "source": [
    "import torch\n",
    "\n",
    "data = torch.tensor(encode(text), dtype=torch.long)\n",
    "print(f'{data.dtype=}, {data.shape=}')\n",
    "data[:10]"
   ]
  },
  {
   "cell_type": "code",
   "execution_count": 25,
   "metadata": {},
   "outputs": [],
   "source": [
    "n_split = int(len(data) *.9)\n",
    "train = data[:n_split]\n",
    "val = data[n_split:]"
   ]
  },
  {
   "cell_type": "code",
   "execution_count": 28,
   "metadata": {},
   "outputs": [
    {
     "data": {
      "text/plain": [
       "tensor([18, 47, 56, 57, 58,  1, 15, 47, 58])"
      ]
     },
     "execution_count": 28,
     "metadata": {},
     "output_type": "execute_result"
    }
   ],
   "source": [
    "context_length = 8\n",
    "train[:context_length+1]"
   ]
  },
  {
   "cell_type": "code",
   "execution_count": 30,
   "metadata": {},
   "outputs": [
    {
     "name": "stdout",
     "output_type": "stream",
     "text": [
      "when the input is tensor([18]), the target is 47\n",
      "when the input is tensor([18, 47]), the target is 56\n",
      "when the input is tensor([18, 47, 56]), the target is 57\n",
      "when the input is tensor([18, 47, 56, 57]), the target is 58\n",
      "when the input is tensor([18, 47, 56, 57, 58]), the target is 1\n",
      "when the input is tensor([18, 47, 56, 57, 58,  1]), the target is 15\n",
      "when the input is tensor([18, 47, 56, 57, 58,  1, 15]), the target is 47\n",
      "when the input is tensor([18, 47, 56, 57, 58,  1, 15, 47]), the target is 58\n",
      "x=tensor([18, 47, 56, 57, 58,  1, 15, 47]), y=tensor([47, 56, 57, 58,  1, 15, 47, 58])\n"
     ]
    }
   ],
   "source": [
    "x = train[:context_length]\n",
    "y = train[1:context_length+1]\n",
    "\n",
    "for t in range(context_length):\n",
    "    context = x[:t+1]\n",
    "    target = y[t]\n",
    "    print(f'when the input is {context}, the target is {target}')\n",
    "\n",
    "print(f'{x=}, {y=}')"
   ]
  },
  {
   "cell_type": "code",
   "execution_count": 35,
   "metadata": {},
   "outputs": [
    {
     "name": "stdout",
     "output_type": "stream",
     "text": [
      "X_batch.shape=torch.Size([4, 8])\n",
      "tensor([[53, 59,  6,  1, 58, 56, 47, 40],\n",
      "        [49, 43, 43, 54,  1, 47, 58,  1],\n",
      "        [13, 52, 45, 43, 50, 53,  8,  0],\n",
      "        [ 1, 39,  1, 46, 53, 59, 57, 43]])\n",
      "Y_batch.shape=torch.Size([4, 8])\n",
      "tensor([[59,  6,  1, 58, 56, 47, 40, 59],\n",
      "        [43, 43, 54,  1, 47, 58,  1, 58],\n",
      "        [52, 45, 43, 50, 53,  8,  0, 26],\n",
      "        [39,  1, 46, 53, 59, 57, 43,  0]])\n",
      "When the input is tensor([53]) the target is 59: b=0\n",
      "When the input is tensor([53, 59]) the target is 6: b=0\n",
      "When the input is tensor([53, 59,  6]) the target is 1: b=0\n",
      "When the input is tensor([53, 59,  6,  1]) the target is 58: b=0\n",
      "When the input is tensor([53, 59,  6,  1, 58]) the target is 56: b=0\n",
      "When the input is tensor([53, 59,  6,  1, 58, 56]) the target is 47: b=0\n",
      "When the input is tensor([53, 59,  6,  1, 58, 56, 47]) the target is 40: b=0\n",
      "When the input is tensor([53, 59,  6,  1, 58, 56, 47, 40]) the target is 59: b=0\n",
      "When the input is tensor([49]) the target is 43: b=1\n",
      "When the input is tensor([49, 43]) the target is 43: b=1\n",
      "When the input is tensor([49, 43, 43]) the target is 54: b=1\n",
      "When the input is tensor([49, 43, 43, 54]) the target is 1: b=1\n",
      "When the input is tensor([49, 43, 43, 54,  1]) the target is 47: b=1\n",
      "When the input is tensor([49, 43, 43, 54,  1, 47]) the target is 58: b=1\n",
      "When the input is tensor([49, 43, 43, 54,  1, 47, 58]) the target is 1: b=1\n",
      "When the input is tensor([49, 43, 43, 54,  1, 47, 58,  1]) the target is 58: b=1\n",
      "When the input is tensor([13]) the target is 52: b=2\n",
      "When the input is tensor([13, 52]) the target is 45: b=2\n",
      "When the input is tensor([13, 52, 45]) the target is 43: b=2\n",
      "When the input is tensor([13, 52, 45, 43]) the target is 50: b=2\n",
      "When the input is tensor([13, 52, 45, 43, 50]) the target is 53: b=2\n",
      "When the input is tensor([13, 52, 45, 43, 50, 53]) the target is 8: b=2\n",
      "When the input is tensor([13, 52, 45, 43, 50, 53,  8]) the target is 0: b=2\n",
      "When the input is tensor([13, 52, 45, 43, 50, 53,  8,  0]) the target is 26: b=2\n",
      "When the input is tensor([1]) the target is 39: b=3\n",
      "When the input is tensor([ 1, 39]) the target is 1: b=3\n",
      "When the input is tensor([ 1, 39,  1]) the target is 46: b=3\n",
      "When the input is tensor([ 1, 39,  1, 46]) the target is 53: b=3\n",
      "When the input is tensor([ 1, 39,  1, 46, 53]) the target is 59: b=3\n",
      "When the input is tensor([ 1, 39,  1, 46, 53, 59]) the target is 57: b=3\n",
      "When the input is tensor([ 1, 39,  1, 46, 53, 59, 57]) the target is 43: b=3\n",
      "When the input is tensor([ 1, 39,  1, 46, 53, 59, 57, 43]) the target is 0: b=3\n"
     ]
    }
   ],
   "source": [
    "torch.manual_seed(1337)\n",
    "batch_size = 4\n",
    "context_length = 8\n",
    "\n",
    "def get_batch(split:str = 'train') -> tuple[torch.Tensor, torch.Tensor]:\n",
    "    data = train if split == 'train' else val\n",
    "    idx = torch.randint(len(data) - context_length, (batch_size,))\n",
    "    x = torch.stack([data[i:i+context_length] for i in idx])\n",
    "    y = torch.stack([data[i+1:i+context_length+1] for i in idx])\n",
    "    return x, y\n",
    "\n",
    "X_batch, Y_batch = get_batch()\n",
    "print(f'{X_batch.shape=}\\n{X_batch[:10]}')\n",
    "print(f'{Y_batch.shape=}\\n{Y_batch[:10]}')\n",
    "\n",
    "for b in range(batch_size):\n",
    "    for t in range(context_length):\n",
    "        context = X_batch[b, :t+1]\n",
    "        target = Y_batch[b, t]\n",
    "        print(f'When the input is {context} the target is {target}: {b=}')"
   ]
  },
  {
   "cell_type": "code",
   "execution_count": 87,
   "metadata": {},
   "outputs": [
    {
     "data": {
      "text/plain": [
       "(torch.Size([32, 65]), tensor(4.8948, grad_fn=<NllLossBackward0>))"
      ]
     },
     "execution_count": 87,
     "metadata": {},
     "output_type": "execute_result"
    }
   ],
   "source": [
    "import torch.nn as nn\n",
    "import torch.nn.functional as F\n",
    "torch.manual_seed(1337)\n",
    "\n",
    "class BigramLanguageModel(nn.Module):\n",
    "    def __init__(self, vocab_size: int) -> None:\n",
    "        super().__init__()\n",
    "        self.token_embedding_table = nn.Embedding(vocab_size, vocab_size)\n",
    "        \n",
    "    def forward(self, idx: torch.Tensor, targets: torch.Tensor | None = None):\n",
    "        logits = self.token_embedding_table(idx)\n",
    "        \n",
    "        if targets is None:\n",
    "            loss = None\n",
    "        else:\n",
    "            batches, time_steps, channels = logits.shape\n",
    "            logits = logits.view(batches * time_steps, channels)\n",
    "            targets = targets.view(batches* time_steps)\n",
    "            loss = F.cross_entropy(logits,targets)\n",
    "        return logits, loss\n",
    "\n",
    "    \n",
    "    def generate(self, indicies: torch.Tensor, max_new_tokens: int):\n",
    "        for i in range(max_new_tokens):\n",
    "            logits, loss = self(indicies)\n",
    "            # extract last time step\n",
    "            logits = logits[:, -1, :]\n",
    "            probs = F.softmax(logits, dim=1)\n",
    "            next_index = torch.multinomial(probs,num_samples=1)\n",
    "            indicies = torch.cat((indicies, next_index), dim=1)\n",
    "            \n",
    "        return indicies\n",
    "    \n",
    "m = BigramLanguageModel(V)\n",
    "logits, loss = m(X_batch, Y_batch)\n",
    "logits.shape, loss"
   ]
  },
  {
   "cell_type": "code",
   "execution_count": 98,
   "metadata": {},
   "outputs": [
    {
     "data": {
      "text/plain": [
       "\"\\n\\n\\nBALLOUCoord'rer H:\\nICAd t gs trtin s: Twathy sthimbe wine k u h f h ff s t, s ayo be.\\nANos tcroll tovaspthis ar w mis y his Himayo Gotesith sownorthe:\\nFRDin fore po whand.\\nCin metis o, thend s t s prthinthyofan:\\nWef, dreadek w.\\nAnoyer'ditoby; thy geak awit t. My brito orthy httagerp ansensthart cery by,\\nLENThas whelllkes the wat w'sthe thie douswe t ser e ba ort ppe Har unden\\nI at, swhos.\\nGLABel\""
      ]
     },
     "execution_count": 98,
     "metadata": {},
     "output_type": "execute_result"
    }
   ],
   "source": [
    "decode(m.generate(torch.zeros((1,1), dtype=torch.long), max_new_tokens=400)[0].tolist())\n",
    "# m.generate(torch.zeros((1,1), dtype=torch.long), max_new_tokens=100)"
   ]
  },
  {
   "cell_type": "code",
   "execution_count": 91,
   "metadata": {},
   "outputs": [],
   "source": [
    "optimizer = torch.optim.AdamW(m.parameters(), lr=1e-3)"
   ]
  },
  {
   "cell_type": "code",
   "execution_count": 96,
   "metadata": {},
   "outputs": [
    {
     "name": "stdout",
     "output_type": "stream",
     "text": [
      "steps=0 loss=tensor(2.4163, grad_fn=<NllLossBackward0>)\n",
      "steps=1000 loss=tensor(2.4161, grad_fn=<NllLossBackward0>)\n",
      "steps=2000 loss=tensor(2.5657, grad_fn=<NllLossBackward0>)\n",
      "steps=3000 loss=tensor(2.4316, grad_fn=<NllLossBackward0>)\n",
      "steps=4000 loss=tensor(2.5484, grad_fn=<NllLossBackward0>)\n",
      "steps=5000 loss=tensor(2.4627, grad_fn=<NllLossBackward0>)\n",
      "steps=6000 loss=tensor(2.4249, grad_fn=<NllLossBackward0>)\n",
      "steps=7000 loss=tensor(2.3524, grad_fn=<NllLossBackward0>)\n",
      "steps=8000 loss=tensor(2.4860, grad_fn=<NllLossBackward0>)\n",
      "steps=9000 loss=tensor(2.4564, grad_fn=<NllLossBackward0>)\n"
     ]
    }
   ],
   "source": [
    "batch_size = 32\n",
    "for steps in range(10000):\n",
    "    X_batch, Y_batch = get_batch('train')\n",
    "    \n",
    "    logits, loss = m(X_batch, Y_batch)\n",
    "    optimizer.zero_grad(set_to_none=True)\n",
    "    loss.backward()\n",
    "    optimizer.step()\n",
    "    \n",
    "    if steps % 1000 == 0:\n",
    "        print(f'{steps=} {loss=}')"
   ]
  }
 ],
 "metadata": {
  "kernelspec": {
   "display_name": ".venv",
   "language": "python",
   "name": "python3"
  },
  "language_info": {
   "codemirror_mode": {
    "name": "ipython",
    "version": 3
   },
   "file_extension": ".py",
   "mimetype": "text/x-python",
   "name": "python",
   "nbconvert_exporter": "python",
   "pygments_lexer": "ipython3",
   "version": "3.11.2"
  }
 },
 "nbformat": 4,
 "nbformat_minor": 2
}
